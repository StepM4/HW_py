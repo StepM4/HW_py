{
 "cells": [
  {
   "cell_type": "markdown",
   "metadata": {
    "id": "xPCW0t6jIduY"
   },
   "source": [
    "## 1. Подсчет количества дней\n",
    "\n",
    "Создай целочисленные переменные, которые отвечают за:\n",
    "- количество дней для проращивания семян\n",
    "- количество дней для выращивания рассады\n",
    "- количество дней до плодоношения\n",
    "\n",
    "Сложи все три переменные. Выведи на экран результат - число дней от момента начала проращивания семян до момента, когда созреют помидоры."
   ]
  },
  {
   "cell_type": "code",
   "execution_count": 1,
   "metadata": {
    "id": "O6sEcKdFIMZb"
   },
   "outputs": [
    {
     "name": "stdout",
     "output_type": "stream",
     "text": [
      "3\n"
     ]
    }
   ],
   "source": [
    "seed_germ = 1\n",
    "seedling_growth = 1\n",
    "fruiting = 1\n",
    "tom_growth = seed_germ + seedling_growth + fruiting\n",
    "print(tom_growth)"
   ]
  },
  {
   "cell_type": "markdown",
   "metadata": {
    "id": "ZmLLCikNIAdT"
   },
   "source": [
    "## 2. Сохранение данных о сорте.\n",
    "\n",
    "Продуктивность сорта считается по простой формуле - [количество кг, собранных со всех кустов] / [количество кустов]\n",
    "\n",
    "Считай с клавиатуры количество килограмм, собранных со всех кустов и количество кустов (целые числа). Подели и округли до 2 знаков после запятой, результат выведи на экран."
   ]
  },
  {
   "cell_type": "code",
   "execution_count": 14,
   "metadata": {
    "id": "IWNzBK6AIouo"
   },
   "outputs": [
    {
     "name": "stdout",
     "output_type": "stream",
     "text": [
      "24\n",
      "7\n",
      "3.43\n"
     ]
    }
   ],
   "source": [
    "kg = int(input())\n",
    "bushes = int(input())\n",
    "prod = kg/bushes\n",
    "print(round(prod, 2))"
   ]
  },
  {
   "cell_type": "markdown",
   "metadata": {
    "id": "O9dAr1NdJpyT"
   },
   "source": [
    "## 3. Средняя сладость клубники.\n",
    "\n",
    "Ваша бабушка решила поспорить с соседкой, у кого клубника более сладкая. Они посадили кусты и потом оценили сладость клубники, собранной с каждого из кустов, по шкале от 0 до 10. Ваша задача - посчитать среднее для двух массивов и определить, у кого слаще клубника в среднем."
   ]
  },
  {
   "cell_type": "code",
   "execution_count": 18,
   "metadata": {
    "id": "oy8HPWpiIpOv"
   },
   "outputs": [
    {
     "name": "stdout",
     "output_type": "stream",
     "text": [
      "7.333333333333333 5.25\n"
     ]
    }
   ],
   "source": [
    "grandma_strawberries = [5, 7, 10, 9, 3, 10]\n",
    "neighbour_strawberries = [10, 6, 2, 3]\n",
    "grandma_med = sum(grandma_strawberries)/len(grandma_strawberries)\n",
    "neighbour_med = sum(neighbour_strawberries)/len(neighbour_strawberries)\n",
    "print(grandma_med, neighbour_med)"
   ]
  },
  {
   "cell_type": "markdown",
   "metadata": {
    "id": "EYjJBGLsRC4y"
   },
   "source": [
    "## 4. Список растений на даче.\n",
    "\n",
    "У вас есть список растений на даче у бабушки. <font color=\"#8000FF\"> При помощи форматирования строк </font> выведите список растений **в алфавитном порядке** в виде:\n",
    "\n",
    "N. Название растения."
   ]
  },
  {
   "cell_type": "code",
   "execution_count": 24,
   "metadata": {
    "id": "z2_PuewtIpWs"
   },
   "outputs": [
    {
     "name": "stdout",
     "output_type": "stream",
     "text": [
      "0 картошка, 1 клубника, 2 мальва, 3 огурцы, 4 подсолнухи, 5 томаты, 6 флоксы, 7 хосты, "
     ]
    }
   ],
   "source": [
    "plants = [\"мальва\", \"клубника\", \"томаты\", \"огурцы\", \"флоксы\", \"картошка\", \"подсолнухи\", \"хосты\"]\n",
    "\n",
    "plants.sort()\n",
    "\n",
    "for i, value in enumerate(plants):\n",
    "    print(i, value, end=', ')"
   ]
  },
  {
   "cell_type": "markdown",
   "metadata": {
    "id": "amXMFPIxKq7s"
   },
   "source": [
    "## 5. Погода на улице.\n",
    "\n",
    "Сейчас весна, у вашей бабушки уже высажена рассада перцев в парник. Однако она боится заморозков. Ваша задача - считать с клавиатуры значение температуры:\n",
    "\n",
    "Если t<5, надо вывести \"Пожалуйста, закрой полностью парник - на улице холодно\";\n",
    "\n",
    "Если t от 5 до 10, надо вывести \"Пожалуйста, прикрой парник - на улице прохладно\";\n",
    "\n",
    "Если t больше 10, надо вывести \"Пожалуйста, открой полностью парник - на улице тепло\"."
   ]
  },
  {
   "cell_type": "code",
   "execution_count": 27,
   "metadata": {
    "id": "F9Xwk-ldIpeY"
   },
   "outputs": [
    {
     "name": "stdout",
     "output_type": "stream",
     "text": [
      "12\n",
      "Пожалуйста, открой полностью парник - на улице тепло\n"
     ]
    }
   ],
   "source": [
    "temp = int(input())\n",
    "if temp<5:\n",
    "    print(\"Пожалуйста, закрой полностью парник - на улице холодно\")\n",
    "elif temp>10:\n",
    "    print(\"Пожалуйста, открой полностью парник - на улице тепло\")\n",
    "else: print(\"Пожалуйста, прикрой парник - на улице прохладно\")"
   ]
  },
  {
   "cell_type": "markdown",
   "metadata": {
    "id": "AoT449EwIoN0"
   },
   "source": [
    "## 6. Список любимых томатов.\n",
    "\n",
    "У вашей бабушки есть любимые сорта томатов, но не все из них она посадила в этом году. У вас есть словарь, где ключ - название сорта, а по значению лежит количество кустов, высаженных в этом году.\n",
    "\n",
    "Ваша задача - вывести список сортов, которые были высажены в этом году (если высажено 0 кустов, то этот сорт в этом году не сажался)."
   ]
  },
  {
   "cell_type": "code",
   "execution_count": 5,
   "metadata": {
    "id": "r61uXx7PIpkJ"
   },
   "outputs": [
    {
     "name": "stdout",
     "output_type": "stream",
     "text": [
      "Бычье сердце\n",
      "Любаша\n",
      "Космонавт Волков\n",
      "Монеточка\n"
     ]
    }
   ],
   "source": [
    "tomatoes = {\"Бычье сердце\": 4, \"Любаша\": 1, \"Титаник\": 0, \"Космонавт Волков\": 7}\n",
    "tomatoes[\"Монеточка\"] = 5\n",
    "\n",
    "for key, value in tomatoes.items():\n",
    "    if value != 0:\n",
    "        print(key)"
   ]
  },
  {
   "cell_type": "markdown",
   "metadata": {
    "id": "M7EBZSFGLiVy"
   },
   "source": [
    "## 7. Словари.\n",
    "\n",
    "Создайте словарь, где ключами будут числа от 0 до 20 включительно, а значения -\n",
    "1. -1, если значение ключа делится на 5\n",
    "2. 1 иначе\n",
    "\n",
    "\n",
    "<font color=\"#8000FF\"> Используйте comprehensions </font>"
   ]
  },
  {
   "cell_type": "code",
   "execution_count": 13,
   "metadata": {
    "id": "2JxdQGZJIppV"
   },
   "outputs": [
    {
     "name": "stdout",
     "output_type": "stream",
     "text": [
      "{0: -1, 1: 1, 2: 1, 3: 1, 4: 1, 5: -1, 6: 1, 7: 1, 8: 1, 9: 1, 10: -1, 11: 1, 12: 1, 13: 1, 14: 1, 15: -1, 16: 1, 17: 1, 18: 1, 19: 1}\n"
     ]
    }
   ],
   "source": [
    "my_dict = {x: -1 if x%5==0 else 1 for x in range(20)}\n",
    "print(my_dict)"
   ]
  },
  {
   "cell_type": "markdown",
   "metadata": {
    "id": "ZTrqV-ixUhcj"
   },
   "source": [
    "## 8. Ох уж эти корейцы\n",
    "\n",
    "Вам дан список с возрастами людей в одной неизвестной корейской фирме. Вышел новый закон, который постановляет, что теперь возраст сотрудников считается не традиционным способом, а по факту рождения. Менеджер компании попросил вас перезаполнить базу данных, обновив возраст сотрудников по правилу:\n",
    "\n",
    "$age = (age + 1)$\n",
    "\n",
    " <font color=\"#8000FF\"> Используйте функцию `map`</font>"
   ]
  },
  {
   "cell_type": "code",
   "execution_count": 129,
   "metadata": {
    "id": "60H4Zi4eMSQp"
   },
   "outputs": [
    {
     "name": "stdout",
     "output_type": "stream",
     "text": [
      "[27, 24, 58, 29, 26, 54, 56, 45, 56, 26]\n",
      "[28, 25, 59, 30, 27, 55, 57, 46, 57, 27]\n"
     ]
    }
   ],
   "source": [
    "import random\n",
    "ages = random.choices(list(range(20, 65)), k=100500)\n",
    "#print(ages) - для проверки\n",
    "new_age = list(map(lambda x: x + 1, ages))\n",
    "print(new_age)"
   ]
  },
  {
   "cell_type": "markdown",
   "metadata": {
    "id": "0wcUgWpqMls_"
   },
   "source": [
    "## 9. Ох уж эти корейцы - 2.0\n",
    "\n",
    "Условие такое же, как и в задаче 8, но теперь вам предстоит решить такую же задачу с использованием <font color=\"#8000FF\"> `list comprehensions` </font>"
   ]
  },
  {
   "cell_type": "code",
   "execution_count": 18,
   "metadata": {
    "id": "FyrL43m7Iptt"
   },
   "outputs": [
    {
     "name": "stdout",
     "output_type": "stream",
     "text": [
      "[56, 31, 48, 32, 35, 62, 58, 41, 41, 25]\n"
     ]
    }
   ],
   "source": [
    "new_age = [0] * len(ages)\n",
    "for i, age in enumerate(ages):\n",
    "    new_age[i] = age+1\n",
    "#print(ages) - для проверки\n",
    "print(new_age)"
   ]
  },
  {
   "cell_type": "markdown",
   "metadata": {
    "id": "0nk0f2oSM-dx"
   },
   "source": [
    "## 10. Много разных строк.\n",
    "\n",
    "Напишите функцию` get_extended_string_info`, принимающую на вход строку, а на выход выдаёт **7 строк через запятую**, полученные из оригинальной соответствующим преобразованием:\n",
    "\n",
    "1. Самое длинное слово в строке\n",
    "2. Количество слов в строке\n",
    "3. Переворачивает каждое слово в строке задом наперёд\n",
    "4. Удаляет все цифры из строки\n",
    "5. Заменяет все буквы верхнего регистра на нижний, а нижнего регистра на верхний\n",
    "6. Проверяет, является ли строка палиндромом (без учета пробелов, регистра и пунктуации, те только буквы и цифры)\n",
    "7. Если строка не является палиндромом, то выводит первые 5 символов строки в обратном порядке\n",
    "\n",
    "Т.е.  первая строка - самое длинное слово в исходной строке, вторая строка - количество слов в исходной строке и.т.д."
   ]
  },
  {
   "cell_type": "code",
   "execution_count": 33,
   "metadata": {
    "id": "qD-0OsRZIpw3"
   },
   "outputs": [
    {
     "name": "stdout",
     "output_type": "stream",
     "text": [
      "('world!1', 2, 'olleH1!dlrow', 'Hello world!', 'hELLO WORLD!1', False, 'olleH')\n"
     ]
    }
   ],
   "source": [
    "def get_extended_string_info(input_string: str):\n",
    "    words: list[str] = input_string.split()\n",
    "    #самое длинное слово\n",
    "    longest_word: str = max(words, key = len)\n",
    "    #количество слов\n",
    "    words_count: int = len(words)\n",
    "    #переворачиваем слова\n",
    "    reversed_words: list = [word[::-1] for word in words]\n",
    "    reverse_text = ''.join(reversed_words)\n",
    "    #удаляем цифры\n",
    "    remove_digit: str = [letter for letter in input_string if not letter.isdigit()]\n",
    "    no_digits = ''.join(remove_digit)\n",
    "    #меняем регистр\n",
    "    swapped_case = input_string.swapcase()\n",
    "    #проверка на палиндром \n",
    "    cleaned_letter = [letter.lower() for letter in input_string if letter.isalnum()]\n",
    "    cleaned_text = ''.join(cleaned_letter)\n",
    "    palindrome = cleaned_text == cleaned_text[::-1]\n",
    "    #переворачиваем \"непалиндром\"\n",
    "    non_pali_reversed = input_string[:5][::-1] if not palindrome else \"\"\n",
    "    return longest_word, words_count, reverse_text, no_digits, swapped_case, palindrome, non_pali_reversed\n",
    "#проверяем работоспособность\n",
    "string_info = get_extended_string_info(\"Hello world!1\")    \n",
    "print(string_info)"
   ]
  },
  {
   "cell_type": "markdown",
   "metadata": {
    "id": "DSlSqjt0N0-3"
   },
   "source": [
    "## 11. Турецкие сериалы.\n",
    "\n",
    "Из администрации школы вам поступили списки турецких студентов, сдававших экзамены по математике и физике в виде словаря \"имя\": tuple(оценка по физике, оценка по математике)\n",
    "\n",
    "Если оценка ниже трех - студент не сдал, если ниже четырех - не получает стипендию. Если хотябы один предмет не сдан, то это отчисление\n",
    "\n",
    "1. <font color=\"#8000FF\"> С помощью comprehensions </font> сформируйте списки студентов, кто сдал экзамены на проход/стипу. Подумайте, какие категории вам нужны\n",
    "\n",
    "2. Сформируйте списки на стипендию и на отчисление"
   ]
  },
  {
   "cell_type": "code",
   "execution_count": 13,
   "metadata": {
    "id": "1Zf73sEgOC43"
   },
   "outputs": [],
   "source": [
    "exam_scores = {\n",
    "    \"Serkan Bolat\": (3, 4),\n",
    "    \"Burak Deniz\": (5, 3),\n",
    "    \"Ahmet Yildirim\": (2, 5),\n",
    "    \"Merve Kaya\": (4, 4),\n",
    "    \"Emre Demir\": (2, 2),\n",
    "    \"Zeynep Arslan\": (3, 3),\n",
    "    \"Mustafa Yilmaz\": (5, 4),\n",
    "    \"Elif Ozdemir\": (4, 3),\n",
    "    \"Canan Karaca\": (2, 4),\n",
    "    \"Yusuf Sahin\": (5, 5),\n",
    "    \"Selin Cengiz\": (3, 2),\n",
    "    \"Kerem Gunes\": (4, 5),\n",
    "    \"Duru Aydin\": (3, 4),\n",
    "    \"Omer Yilmaz\": (2, 3),\n",
    "    \"Esra Uysal\": (4, 4),\n",
    "    \"Halil Yalcin\": (3, 3),\n",
    "    \"Ayse Yildirim\": (5, 4),\n",
    "    \"Fatma Demir\": (2, 2),\n",
    "    \"Ali Gokce\": (4, 3),\n",
    "    \"Cemre Erdem\": (3, 5)\n",
    "}\n"
   ]
  },
  {
   "cell_type": "code",
   "execution_count": 24,
   "metadata": {
    "id": "faZRQH5pIpzu"
   },
   "outputs": [
    {
     "name": "stdout",
     "output_type": "stream",
     "text": [
      "Список студентов на стипендию:  ['Merve Kaya', 'Mustafa Yilmaz', 'Yusuf Sahin', 'Kerem Gunes', 'Esra Uysal', 'Ayse Yildirim']\n",
      "Список студентов на отчисление:  ['Serkan Bolat', 'Burak Deniz', 'Ahmet Yildirim', 'Emre Demir', 'Zeynep Arslan', 'Elif Ozdemir', 'Canan Karaca', 'Selin Cengiz', 'Duru Aydin', 'Omer Yilmaz', 'Halil Yalcin', 'Fatma Demir', 'Ali Gokce', 'Cemre Erdem']\n"
     ]
    }
   ],
   "source": [
    "passed_students : list = [name for name, grade in exam_scores.items() if grade[0] >=3 and grade[1] >= 3]\n",
    "payment_students : list = [name for name, grade in exam_scores.items() if grade[0] >=4 and grade[1] >= 4]\n",
    "expelled_students : list = [name for name, grade in exam_scores.items() if grade [0] <= 3 or grade[1] <= 3]\n",
    "print('Список студентов на стипендию: ', payment_students)\n",
    "print('Список студентов на отчисление: ', expelled_students)"
   ]
  },
  {
   "cell_type": "markdown",
   "metadata": {
    "id": "vfhNtLvpOLYn"
   },
   "source": [
    "## 12. Я у мамы разработчик.\n",
    "\n",
    "Возьмите функцию из задачи 10 и переиспользуйте её, чтобы получить количество слов в строке. Ненужные переменные запихните в `_` и `*_`"
   ]
  },
  {
   "cell_type": "code",
   "execution_count": null,
   "metadata": {
    "id": "simmTOFbIp2V"
   },
   "outputs": [],
   "source": [
    "# YOUR CODE HERE"
   ]
  },
  {
   "cell_type": "markdown",
   "metadata": {
    "id": "uFJ9mDlv1q9-"
   },
   "source": [
    "## 13. Не перевелись ещё богатыри на Руси! - часть 1.\n",
    "\n",
    "Вам дана очень длинная строка с фамилиями, отчествами и именами потенциальных богатырей.\n",
    "\n",
    "Ваша задача - <font color=\"#8000FF\">используя цикл for</font> получить список имён из неё, после чего вывести все **уникальные** имена."
   ]
  },
  {
   "cell_type": "code",
   "execution_count": 69,
   "metadata": {
    "id": "w8gXe9q-oElJ"
   },
   "outputs": [],
   "source": [
    "slavic_names = '''\n",
    "Ратибор Васелинович Чеславов\n",
    "Веселин Истиславович Гремиславовский\n",
    "Хотимир Владимирович Жирославовский\n",
    "Бронислав Властимирович Бранимировский\n",
    "Васелин Граниславович Богданов\n",
    "Истислав Мутимирович Станиславов\n",
    "Вячеслав Велиградович Белославов\n",
    "Ярополк Хотимирович Станиславовский\n",
    "Тихомир Судиславович Васелинов\n",
    "Гранислав Истиславович Жирославов\n",
    "Белослав Мечиславович Мирославовский\n",
    "Властимир Богданович Гремиславов\n",
    "Гостевид Пересветович Мстиславов\n",
    "Бранимир Горисветович Велимиров\n",
    "Веселин Ратиборович Станиславов\n",
    "Вячеслав Истиславович Драгомыслов\n",
    "Васелин Велимирович Венцеславов\n",
    "Добромир Богославович Судиславов\n",
    "Тихомир Святославович Васелинов\n",
    "Вышеслав Граниславович Доброславов\n",
    "Драгомысл Ярославович Вышеславов\n",
    "Мечислав Гостевидович Станиславовский\n",
    "Градислав Веселинович Драгомыслов\n",
    "Доброслав Велимирович Святополков\n",
    "Пересвет Хотимирович Тихомиров\n",
    "Святослав Тихомирович Граниславов\n",
    "Жирослав Гремиславович Богославов\n",
    "Гранислав Перемыслович Васелинов\n",
    "Гостевид Хотимирович Ратиборов\n",
    "Гостевид Мутимирович Томиславов\n",
    "Тихомир Владимирович Веселинов\n",
    "Мстислав Хотимирович Истиславовский\n",
    "Чеслав Святополкович Веселинов\n",
    "Владимир Истиславович Властимиров\n",
    "Добромир Святополкович Доброжиров\n",
    "Томислав Истиславович Судиславовский\n",
    "Веселин Хотимирович Мстиславов\n",
    "Владимир Яромирович Судиславов\n",
    "Добромир Судиславович Жирославов\n",
    "Вышеслав Милорадович Белославовский\n",
    "Судислав Властимирович Бранимиров\n",
    "Перемысл Жирославович Бранимиров\n",
    "Драгомир Добромирович Мирославов\n",
    "Вячеслав Доброславович Судиславов\n",
    "Хотимир Перемыслович Богославов\n",
    "Веселин Мстиславович Ясномыслов\n",
    "Яромир Велиградович Истиславов\n",
    "Яромир Граниславович Веселиновский\n",
    "Ярослав Жирославович Святополков\n",
    "Горисвет Ярополкович Станиславовский\n",
    "'''"
   ]
  },
  {
   "cell_type": "code",
   "execution_count": 130,
   "metadata": {},
   "outputs": [
    {
     "name": "stdout",
     "output_type": "stream",
     "text": [
      "['Бранимир', 'Томислав', 'Горисвет', 'Ратибор', 'Владимир', 'Драгомир', 'Драгомысл', 'Белослав', 'Гостевид', 'Вячеслав', 'Добромир', 'Васелин', 'Жирослав', 'Градислав', 'Святослав', 'Гранислав', 'Мечислав', 'Чеслав', 'Ярослав', 'Яромир', 'Ярополк', 'Хотимир', 'Бронислав', 'Пересвет', 'Веселин', 'Вышеслав', 'Доброслав', 'Мстислав', 'Судислав', 'Тихомир', 'Властимир', 'Истислав', 'Перемысл']\n"
     ]
    }
   ],
   "source": [
    "divide = slavic_names.split()\n",
    "bogatyr_list = []\n",
    "for i in range(0, len(divide), 3):\n",
    "    bogatyr_list.append(divide[i])\n",
    "bogatyr_list_orig = list(set(bogatyr_list))\n",
    "print(bogatyr_list_orig)"
   ]
  },
  {
   "cell_type": "markdown",
   "metadata": {
    "id": "fBDeNsjooWXD"
   },
   "source": [
    "## 14. Не перевелись ещё богатыри на Руси! - часть 2.\n",
    "\n",
    "Вам дана очень длинная строка с фамилиями, отчествами и именами потенциальных богатырей.\n",
    "\n",
    "Ваша задача - <font color=\"#8000FF\">при помощи list comprehensions</font> получить список имён из неё, после чего вывести все **уникальные** имена."
   ]
  },
  {
   "cell_type": "code",
   "execution_count": 131,
   "metadata": {
    "id": "55SRUaKLrdyR"
   },
   "outputs": [
    {
     "name": "stdout",
     "output_type": "stream",
     "text": [
      "['Бранимир', 'Томислав', 'Горисвет', 'Ратибор', 'Владимир', 'Драгомир', 'Драгомысл', 'Белослав', 'Гостевид', 'Вячеслав', 'Добромир', 'Васелин', 'Жирослав', 'Градислав', 'Святослав', 'Гранислав', 'Мечислав', 'Чеслав', 'Ярослав', 'Яромир', 'Ярополк', 'Хотимир', 'Бронислав', 'Пересвет', 'Веселин', 'Вышеслав', 'Доброслав', 'Мстислав', 'Судислав', 'Тихомир', 'Властимир', 'Истислав', 'Перемысл']\n"
     ]
    }
   ],
   "source": [
    "divide = slavic_names.split()\n",
    "bogatyr_list : list = [divide[i] for i in range(0, len(divide), 3)]\n",
    "bogatyr_list_orig = list(set(bogatyr_list))\n",
    "print(bogatyr_list_orig)"
   ]
  },
  {
   "cell_type": "markdown",
   "metadata": {
    "id": "QLVpQyJnK5Bc"
   },
   "source": [
    "## 15. Генератор богатырских имён.\n",
    "\n",
    "\n",
    "Современные родители любят имена с духом старины. Проанализируйте список имён (именно имён, а не отчеств/фамилий) из задачи 13. Выделите (чисто визуально) 6 возможных начал имён и 6 возможных концов имён (например, Яро - начало, Полк - конец, а вместе имя - Ярополк) и напишите функцию `generate_random_old_slavic_name`, которая при помощи random.choice выдаёт случайное имя.\n",
    "\n",
    "При помощи цикла вызовите функцию 10 раз и выведите, что получилось."
   ]
  },
  {
   "cell_type": "code",
   "execution_count": 83,
   "metadata": {
    "id": "0burcuqjMQ30"
   },
   "outputs": [
    {
     "name": "stdout",
     "output_type": "stream",
     "text": [
      "Граниполк\n",
      "Ярослав\n",
      "Яровид\n",
      "Жиролин\n",
      "Жирослав\n",
      "Ярополк\n",
      "Весесмысл\n",
      "Ярослав\n",
      "Благолин\n",
      "Гранивид\n"
     ]
    }
   ],
   "source": [
    "\n",
    "def generate_random_old_slavic_name():\n",
    "    name_begin : list = [\"Яро\", \"Жиро\", \"Благо\", \"Грани\", \"Мечи\", \"Весе\"]\n",
    "    name_end : list = [\"вид\", \"смысл\", \"полк\", \"мир\", \"лин\", \"слав\"]\n",
    "    name = random.choice(name_begin) + random.choice(name_end)\n",
    "    return name\n",
    "for i in range(10):\n",
    "    print(generate_random_old_slavic_name())"
   ]
  },
  {
   "cell_type": "markdown",
   "metadata": {
    "id": "Td8QhrRJ_wdO"
   },
   "source": [
    "## 16. Один день, еще один, да один день - часть 1.\n",
    "\n",
    "Перед вами список некоторых князей Киевских и годы их правления.\n",
    "\n",
    "Ваша задача - <font color=\"#8000FF\">при помощи лямбда-функции и функции sort</font> отсортировать их в порядке возрастания количества лет, которых они провели на престоле."
   ]
  },
  {
   "cell_type": "code",
   "execution_count": 99,
   "metadata": {
    "id": "oxgCN37HJEHk"
   },
   "outputs": [],
   "source": [
    "rulers = [{\"name\": \"Олег Вещий\", \"year_start\": 882, \"year_end\": 912},\n",
    "          {\"name\": \"Игорь Рюрикович\", \"year_start\": 912, \"year_end\": 945},\n",
    "          {\"name\": \"Ольга\", \"year_start\": 945, \"year_end\": 960},\n",
    "          {\"name\": \"Святослав Игоревич\", \"year_start\": 945, \"year_end\": 972},\n",
    "          {\"name\": \"Ярополк Святославич\", \"year_start\": 972, \"year_end\": 978},\n",
    "          {\"name\": \"Владимир Святославич\", \"year_start\": 978, \"year_end\": 1015}]"
   ]
  },
  {
   "cell_type": "code",
   "execution_count": 106,
   "metadata": {
    "id": "WpbJzN82KUki"
   },
   "outputs": [
    {
     "data": {
      "text/plain": [
       "[{'name': 'Ярополк Святославич', 'year_start': 972, 'year_end': 978},\n",
       " {'name': 'Ольга', 'year_start': 945, 'year_end': 960},\n",
       " {'name': 'Святослав Игоревич', 'year_start': 945, 'year_end': 972},\n",
       " {'name': 'Олег Вещий', 'year_start': 882, 'year_end': 912},\n",
       " {'name': 'Игорь Рюрикович', 'year_start': 912, 'year_end': 945},\n",
       " {'name': 'Владимир Святославич', 'year_start': 978, 'year_end': 1015}]"
      ]
     },
     "execution_count": 106,
     "metadata": {},
     "output_type": "execute_result"
    }
   ],
   "source": [
    "sorted_rulers = sorted(rulers, key=lambda x : x[\"year_end\"] - x[\"year_start\"])\n",
    "sorted_rulers"
   ]
  },
  {
   "cell_type": "markdown",
   "metadata": {
    "id": "VP2Nn03BKWOo"
   },
   "source": [
    "## 17. Один день, ещё один, да один день - часть 2.\n",
    "\n",
    "Перед вами список некоторых князей Киевских и годы их правления.\n",
    "\n",
    "Ваша задача - <font color=\"#8000FF\">при помощи лямбда-функции и функции filter</font> выбрать из них тех, кто правил дольше 17 лет или является Ольгой."
   ]
  },
  {
   "cell_type": "code",
   "execution_count": 107,
   "metadata": {
    "id": "hNkpXtt1KkDE"
   },
   "outputs": [
    {
     "name": "stdout",
     "output_type": "stream",
     "text": [
      "[{'name': 'Олег Вещий', 'year_start': 882, 'year_end': 912}, {'name': 'Игорь Рюрикович', 'year_start': 912, 'year_end': 945}, {'name': 'Ольга', 'year_start': 945, 'year_end': 960}, {'name': 'Святослав Игоревич', 'year_start': 945, 'year_end': 972}, {'name': 'Владимир Святославич', 'year_start': 978, 'year_end': 1015}]\n"
     ]
    }
   ],
   "source": [
    "filtered_rulers = filter(lambda x: (x[\"year_end\"] - x[\"year_start\"]) > 17 or x[\"name\"] == \"Ольга\", rulers)\n",
    "print(list(filtered_rulers))"
   ]
  },
  {
   "cell_type": "markdown",
   "metadata": {
    "id": "uQmzqitT9zCx"
   },
   "source": [
    "## 18. Кому на Руси жить хорошо - часть 1.\n",
    "\n",
    "*В Древней Руси больше всего боялись тех, кто отсидел, потому что тогда сажали на кол.*\n",
    "\n",
    "Перед вами два словаря - словарь `paid_money` - количество золота, сколько этот боярин заплатил в казну и словарь `real_money` - количество золота, которое реально заработал боярин.\n",
    "\n",
    "<font color=\"#8000FF\">При помощи цикла for</font> выведи список имён бояр, которые заплатили менее десятой части от своих настоящих доходов - это те бояре, которых в следующем месяце придётся посадить на кол."
   ]
  },
  {
   "cell_type": "code",
   "execution_count": 110,
   "metadata": {
    "id": "x_QHMKex-DM-"
   },
   "outputs": [],
   "source": [
    "paid_money = {\"Козьма Григорьевич\": 70,\n",
    "              \"Аврам Стефанович\": 101,\n",
    "              \"Захарий Григорьевич\": 15,\n",
    "              \"Онцифор Лукинич\": 208}\n",
    "\n",
    "real_money = {\"Козьма Григорьевич\": 1000,\n",
    "              \"Аврам Стефанович\": 900,\n",
    "              \"Захарий Григорьевич\": 400,\n",
    "              \"Онцифор Лукинич\": 2000}"
   ]
  },
  {
   "cell_type": "code",
   "execution_count": 126,
   "metadata": {
    "id": "_rXLJj8M-BlC"
   },
   "outputs": [
    {
     "data": {
      "text/plain": [
       "['Аврам Стефанович', 'Онцифор Лукинич']"
      ]
     },
     "execution_count": 126,
     "metadata": {},
     "output_type": "execute_result"
    }
   ],
   "source": [
    "na_kol = []\n",
    "for i in paid_money:\n",
    "    if real_money[i] / paid_money[i] <= 10:\n",
    "        na_kol.append(i)\n",
    "na_kol"
   ]
  },
  {
   "cell_type": "markdown",
   "metadata": {
    "id": "TAhHkr-mTY9d"
   },
   "source": [
    "## 19. Кому на Руси жить хорошо - часть 2.\n",
    "\n",
    "\n",
    "Перед вами два словаря - словарь `paid_money` - количество золота, сколько этот боярин заплатил в казну и словарь `real_money` - количество золота, которое реально заработал боярин.\n",
    "\n",
    "<font color=\"#8000FF\">При помощи list comprehension и условия</font> выведи список имён бояр, которые заплатили менее десятой части от своих настоящих доходов - это те бояре, которых в следующем месяце придётся посадить на кол."
   ]
  },
  {
   "cell_type": "code",
   "execution_count": 127,
   "metadata": {
    "id": "ORqNSSsGl12r"
   },
   "outputs": [
    {
     "name": "stdout",
     "output_type": "stream",
     "text": [
      "['Аврам Стефанович', 'Онцифор Лукинич']\n"
     ]
    }
   ],
   "source": [
    "na_kol : list = [i for i in paid_money if real_money[i] / paid_money[i] <= 10]\n",
    "print(na_kol)"
   ]
  },
  {
   "cell_type": "markdown",
   "metadata": {
    "id": "_HJtKjsu2ABU"
   },
   "source": [
    "## 20. Здесь русский дух, здесь Русью пахнет... (2 балла)\n",
    "\n",
    "Вы задались задачей сделать самые русские духи. Для этого вы собрали несколько пробных ароматов из разных нот (ноты между ароматами могут повторяться) и провели опрос среди прохожих, спрашивая, насколько Русью пахнет данный аромат по шкале от 1 до 5 включительно.\n",
    "\n",
    "Перед вами часть ароматов и часть голосов - ваша задача:\n",
    "\n",
    "1. На основе ароматов определить множество **уникальных** нот в ароматах\n",
    "2. Определить среднее значение голосов за каждую **ноту**\n",
    "3. Вывести топ-3 ноты по среднему значению голосов - это и будут наши самые русские духи."
   ]
  },
  {
   "cell_type": "code",
   "execution_count": null,
   "metadata": {
    "id": "zvkU2KEy2WH8"
   },
   "outputs": [],
   "source": [
    "fragrances = [{\"id\": 15, \"name\": \"Русалка\", \"notes\": \"кувшинки, вода, мох, мускус\"},\n",
    "              {\"id\": 16, \"name\": \"Жар-птица\", \"notes\": \"молоко, сандал, слива, перец\"},\n",
    "              {\"id\": 17, \"name\": \"Река-Смородина\", \"notes\": \"смородина, вода, молоко, мед\"},\n",
    "              {\"id\": 18, \"name\": \"Царевна-Лягушка\", \"notes\": \"можжевельник, вода, древесина, перец, кувшинки\"},\n",
    "              {\"id\": 19, \"name\": \"Василиса-Премудрая\", \"notes\": \"мед, яблоко, ветивер, мускус\"}]\n",
    "\n",
    "votes = [{'id': 2353, 'fragrance_id': 19, 'vote_res': 2}, {'id': 2354, 'fragrance_id': 15, 'vote_res': 2}, {'id': 2355, 'fragrance_id': 18, 'vote_res': 1}, {'id': 2356, 'fragrance_id': 19, 'vote_res': 4}, {'id': 2357, 'fragrance_id': 16, 'vote_res': 4}, {'id': 2358, 'fragrance_id': 16, 'vote_res': 1}, {'id': 2359, 'fragrance_id': 18, 'vote_res': 1}, {'id': 2360, 'fragrance_id': 15, 'vote_res': 5}, {'id': 2361, 'fragrance_id': 18, 'vote_res': 5}, {'id': 2362, 'fragrance_id': 16, 'vote_res': 4}, {'id': 2363, 'fragrance_id': 19, 'vote_res': 2}, {'id': 2364, 'fragrance_id': 17, 'vote_res': 1}, {'id': 2365, 'fragrance_id': 15, 'vote_res': 1}, {'id': 2366, 'fragrance_id': 18, 'vote_res': 5}, {'id': 2367, 'fragrance_id': 19, 'vote_res': 3}, {'id': 2368, 'fragrance_id': 17, 'vote_res': 1}, {'id': 2369, 'fragrance_id': 18, 'vote_res': 1}, {'id': 2370, 'fragrance_id': 18, 'vote_res': 3}, {'id': 2371, 'fragrance_id': 15, 'vote_res': 2}, {'id': 2372, 'fragrance_id': 17, 'vote_res': 2}, {'id': 2373, 'fragrance_id': 16, 'vote_res': 2}, {'id': 2374, 'fragrance_id': 18, 'vote_res': 3}, {'id': 2375, 'fragrance_id': 19, 'vote_res': 1}, {'id': 2376, 'fragrance_id': 16, 'vote_res': 1}, {'id': 2377, 'fragrance_id': 16, 'vote_res': 2}, {'id': 2378, 'fragrance_id': 16, 'vote_res': 3}, {'id': 2379, 'fragrance_id': 18, 'vote_res': 2}, {'id': 2380, 'fragrance_id': 18, 'vote_res': 5}, {'id': 2381, 'fragrance_id': 15, 'vote_res': 3}, {'id': 2382, 'fragrance_id': 19, 'vote_res': 5}, {'id': 2383, 'fragrance_id': 17, 'vote_res': 4}, {'id': 2384, 'fragrance_id': 18, 'vote_res': 5}, {'id': 2385, 'fragrance_id': 19, 'vote_res': 3}, {'id': 2386, 'fragrance_id': 17, 'vote_res': 3}, {'id': 2387, 'fragrance_id': 17, 'vote_res': 5}, {'id': 2388, 'fragrance_id': 18, 'vote_res': 1}, {'id': 2389, 'fragrance_id': 19, 'vote_res': 1}, {'id': 2390, 'fragrance_id': 15, 'vote_res': 1}, {'id': 2391, 'fragrance_id': 19, 'vote_res': 5}, {'id': 2392, 'fragrance_id': 15, 'vote_res': 2}, {'id': 2393, 'fragrance_id': 15, 'vote_res': 3}, {'id': 2394, 'fragrance_id': 17, 'vote_res': 5}, {'id': 2395, 'fragrance_id': 15, 'vote_res': 5}, {'id': 2396, 'fragrance_id': 17, 'vote_res': 2}, {'id': 2397, 'fragrance_id': 15, 'vote_res': 5}, {'id': 2398, 'fragrance_id': 17, 'vote_res': 5}, {'id': 2399, 'fragrance_id': 18, 'vote_res': 4}, {'id': 2400, 'fragrance_id': 16, 'vote_res': 1}, {'id': 2401, 'fragrance_id': 17, 'vote_res': 5}, {'id': 2402, 'fragrance_id': 16, 'vote_res': 3}]"
   ]
  },
  {
   "cell_type": "code",
   "execution_count": null,
   "metadata": {
    "id": "vG9JTNLM4eSE"
   },
   "outputs": [],
   "source": [
    "# YOUR CODE HERE"
   ]
  }
 ],
 "metadata": {
  "colab": {
   "provenance": []
  },
  "kernelspec": {
   "display_name": "Python 3 (ipykernel)",
   "language": "python",
   "name": "python3"
  },
  "language_info": {
   "codemirror_mode": {
    "name": "ipython",
    "version": 3
   },
   "file_extension": ".py",
   "mimetype": "text/x-python",
   "name": "python",
   "nbconvert_exporter": "python",
   "pygments_lexer": "ipython3",
   "version": "3.11.5"
  }
 },
 "nbformat": 4,
 "nbformat_minor": 1
}
